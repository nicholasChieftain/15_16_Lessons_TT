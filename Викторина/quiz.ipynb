{
 "cells": [
  {
   "cell_type": "code",
   "execution_count": 4,
   "metadata": {},
   "outputs": [
    {
     "name": "stdout",
     "output_type": "stream",
     "text": [
      "Как называется подвижный холм песка в пустыне?\n",
      "Дюна\n",
      "Верно!\n",
      "Какое насекомое скользит по воде и не тонет?\n",
      "Водомерка\n",
      "Верно!\n",
      "Время закончилось. Ты верно ответил на 2 из 4 вопросов:)\n"
     ]
    }
   ],
   "source": [
    "import time\n",
    "import random\n",
    "import pickle\n",
    "\n",
    "#Загружаем список ответов\n",
    "f = open('answers.txt', 'rb')\n",
    "answers = pickle.load(f)\n",
    "f.close()\n",
    "\n",
    "#Загружаем список вопросов\n",
    "f = open('questions.txt', 'rb')\n",
    "questions = pickle.load(f)\n",
    "f.close()\n",
    "\n",
    "time_to_quiz = 10 #Время на викторину в секундах\n",
    "start_time = int(time.time()) #Время запуска игры\n",
    "\n",
    "count_right = 0\n",
    "n_q = len(questions)\n",
    "\n",
    "while int(time.time()) < start_time + time_to_quiz:\n",
    "    number_of_questions = len(questions)\n",
    "    number_question_for_now = random.randint(0, number_of_questions - 1)\n",
    "    questions_for_now = questions[number_question_for_now]\n",
    "    answer_from_user = input(questions_for_now + '\\n')\n",
    "    if answer_from_user[:3] == answers[number_question_for_now][:3]:\n",
    "        print('Верно!')\n",
    "        questions.pop(number_question_for_now)\n",
    "        answers.pop(number_question_for_now)\n",
    "        count_right += 1\n",
    "\n",
    "print(f'Время закончилось. Ты верно ответил на {count_right} из {n_q} вопросов:)')"
   ]
  }
 ],
 "metadata": {
  "kernelspec": {
   "display_name": "Python 3",
   "language": "python",
   "name": "python3"
  },
  "language_info": {
   "codemirror_mode": {
    "name": "ipython",
    "version": 3
   },
   "file_extension": ".py",
   "mimetype": "text/x-python",
   "name": "python",
   "nbconvert_exporter": "python",
   "pygments_lexer": "ipython3",
   "version": "3.7.3"
  }
 },
 "nbformat": 4,
 "nbformat_minor": 4
}
