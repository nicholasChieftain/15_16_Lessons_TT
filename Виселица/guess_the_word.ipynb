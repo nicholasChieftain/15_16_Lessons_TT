{
 "cells": [
  {
   "cell_type": "markdown",
   "metadata": {},
   "source": [
    "**Отгадай слово**"
   ]
  },
  {
   "cell_type": "code",
   "execution_count": null,
   "metadata": {},
   "outputs": [],
   "source": [
    "from IPython.display import clear_output # функция для очитски вывода, чтобы второй игрок не уидел слово\n",
    "word = input('Введите слово, которое хотите загадать').lower() # запоминаем введённое слово\n",
    "clear_output(wait=True) # очищаем вывод\n",
    "print(\"Слово загадано\")\n",
    "answer = [] # создаём массив для хранения отгаданных и неотнаданных букв\n",
    "try_number = 4 # указываем число попыток\n",
    "for letters in word: # создаём красивое представление для неотгаданных букв\n",
    "    answer.append(' __ ')\n",
    "answer[0] = word[0] # открываем первую букву\n",
    "answer[-1] = word[-1] # открываем последнюю букву\n",
    "show = '' # переменная для показа отгаданных букв в красивом представлении\n",
    "for letters in answer: # для всех отгаданных и неотнаданных букв\n",
    "    show += letters # создаём переменную для показа\n",
    "print(show) # выводим\n",
    "while try_number > 0 and show != word : # пока не закончились все попытки и пока игрок не отгадал слово\n",
    "    check = input('Введите букву, которую хотите проверить').lower() # запоминаем введённую букву\n",
    "    num = 0 # счётчик для отслеживания индекса буквы\n",
    "    find_letter = False # есть ли такая буква в слове ?\n",
    "    for letters in word: # для всех букв в слове\n",
    "        if check == letters: # если введенная буква совпадает с буквой в слове\n",
    "            answer[num] = check # записываем эту букву в массив отгаданных и неотнаданных букв\n",
    "            find_letter = True # указываем, что нашли букву\n",
    "        num += 1 # увеличиваем счётчик\n",
    "    if find_letter == False: # если не нашли букву, отнимаем жизнь\n",
    "        try_number -= 1\n",
    "    show = '' # обнуляем переменную для показа отгаданных букв и проверки\n",
    "    for letters in answer: # цикл для вывода отгаданных букв\n",
    "        show += letters\n",
    "    print(show)\n",
    "    print(f'Осталось {try_number} попытки') # выводим информацию\n",
    "if show == word: # если игрок отгадал слово\n",
    "    print('Поздраляю, вы отгадали слово!')\n",
    "else: # иначе\n",
    "    print('К сожалению, вы проиграли')\n",
    "\n"
   ]
  }
 ],
 "metadata": {
  "kernelspec": {
   "display_name": "Python 3",
   "language": "python",
   "name": "python3"
  },
  "language_info": {
   "codemirror_mode": {
    "name": "ipython",
    "version": 3
   },
   "file_extension": ".py",
   "mimetype": "text/x-python",
   "name": "python",
   "nbconvert_exporter": "python",
   "pygments_lexer": "ipython3",
   "version": "3.6.8"
  }
 },
 "nbformat": 4,
 "nbformat_minor": 4
}
