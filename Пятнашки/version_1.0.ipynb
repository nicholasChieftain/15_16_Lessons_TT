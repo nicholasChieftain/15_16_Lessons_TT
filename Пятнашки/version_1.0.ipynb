{
 "cells": [
  {
   "cell_type": "markdown",
   "metadata": {},
   "source": [
    "**Пятнашки, version_1.0**"
   ]
  },
  {
   "cell_type": "code",
   "execution_count": null,
   "metadata": {},
   "outputs": [],
   "source": [
    "from random import randint # импортируем функцию для получения случайных чисел\n",
    "play_ground=[[],[],[],[]] # создаём массив для хранения игрового поля\n",
    "play_ground = [[3,2,1,4],[5,10,7,8],[9,6,11,'x'],[12,14,15,13]] # создаём игровое поле\n",
    "while True: # цикл работает бескончено\n",
    "    for row in play_ground: # цикл для отрисовки игрового поля\n",
    "        print(row)\n",
    "\n",
    "    for row in range(4): # в данном цикле перебираем все строчки\n",
    "        for element in range(4): # в каждой строчке перебираем каждый элемент этой строчки\n",
    "            if play_ground[row][element] == 'x': # если элемент равен пустой плитке, то\n",
    "                save_row = row # запоминаем положение этого элемента\n",
    "                save_column = element\n",
    "\n",
    "    action = input('Введите направление, куда хотите передвинуть плитку\\n'\n",
    "                   '(вверх, вниз, влево, вправо)').lower() # игрок вводит направление движения\n",
    "\n",
    "    if action == 'вверх': # в зависимости от введённого направления\n",
    "        save = play_ground[save_row - 1][save_column] # сохраняем значнеие плитки, которая находится выше пустой клетки\n",
    "        play_ground[save_row][save_column] = save # помещаем в пустую клетку плитку, которая находилась выше неё\n",
    "        play_ground[save_row - 1][save_column] = 'x' # помещаем в плитку, которая находилась выше пустой клетки, значение 'x'\n",
    "    elif action == 'вниз':\n",
    "        save = play_ground[save_row + 1][save_column] # сохраняем значнеие плитки, которая находится ниже пустой клетки\n",
    "        play_ground[save_row][save_column] = save # помещаем в пустую клетку плитку, которая находилась ниже неё\n",
    "        play_ground[save_row + 1][save_column] = 'x' # помещаем в плитку, которая находилась ниже пустой клетки, значение 'x'\n",
    "    elif action == 'влево':\n",
    "        save = play_ground[save_row][save_column - 1] # сохраняем значнеие плитки, которая находится левее пустой клетки\n",
    "        play_ground[save_row][save_column] = save # помещаем в пустую клетку плитку, которая находилась левее неё\n",
    "        play_ground[save_row ][save_column - 1] = 'x' # помещаем в плитку, которая находилась левее пустой клетки, значение 'x'\n",
    "    elif action == 'вправо':\n",
    "        save = play_ground[save_row][save_column + 1] # сохраняем значнеие плитки, которая находится правее пустой клетки\n",
    "        play_ground[save_row][save_column] = save # помещаем в пустую клетку плитку, которая находилась правее неё\n",
    "        play_ground[save_row][save_column + 1]  = 'x' # помещаем в плитку, которая находилась правее пустой клетки, значение 'x'\n",
    "\n",
    "\n",
    "\n"
   ]
  }
 ],
 "metadata": {
  "kernelspec": {
   "display_name": "Python 3",
   "language": "python",
   "name": "python3"
  },
  "language_info": {
   "codemirror_mode": {
    "name": "ipython",
    "version": 3
   },
   "file_extension": ".py",
   "mimetype": "text/x-python",
   "name": "python",
   "nbconvert_exporter": "python",
   "pygments_lexer": "ipython3",
   "version": "3.6.8"
  }
 },
 "nbformat": 4,
 "nbformat_minor": 4
}
