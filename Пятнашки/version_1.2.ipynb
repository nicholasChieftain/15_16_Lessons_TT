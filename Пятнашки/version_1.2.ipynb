{
 "cells": [
  {
   "cell_type": "markdown",
   "metadata": {},
   "source": [
    "**Пятнашки, version_1.2**"
   ]
  },
  {
   "cell_type": "code",
   "execution_count": null,
   "metadata": {},
   "outputs": [],
   "source": [
    "from random import randint\n",
    "play_ground=[[],[],[],[]]\n",
    "numbers = [0,1,2,3,4,6,7,8,9,10,11,12,13,14,15,'x'] # создаём массив из плиток\n",
    "for row in range(4): # цикл для прохождения четырёх строк\n",
    "    for element in range(4): # цикл для прохождения 4-х элементов в строке\n",
    "        index = randint(0, len(numbers)-1) # случайным образом выбираем индекс из списка numbers\n",
    "        play_ground[row].append(numbers[index]) # добавляем элемент с этим индексом на игровое поле\n",
    "        numbers.pop(index) # удаляем элемент с этим индексом из списка numbers\n",
    "\n",
    "while True:\n",
    "    for row in play_ground:\n",
    "        print(row)\n",
    "    up = True\n",
    "    down = True\n",
    "    left = True\n",
    "    right = True\n",
    "    for row in range(4):\n",
    "        for element in range(4):\n",
    "            if play_ground[row][element] == 'x':\n",
    "                save_row = row\n",
    "                save_column = element\n",
    "\n",
    "    if save_row == 0 :\n",
    "        up = False\n",
    "    if save_row == 3:\n",
    "        down = False\n",
    "    if save_column == 0:\n",
    "        left = False\n",
    "    if save_column == 3:\n",
    "        right = False\n",
    "\n",
    "    action = input('Введите направление, куда хотите передвинуть плитку\\n'\n",
    "                   '(вверх, вниз, влево, вправо)')\n",
    "\n",
    "    if action == 'вверх' and up == True:\n",
    "        save = play_ground[save_row - 1][save_column]\n",
    "        play_ground[save_row][save_column] = save\n",
    "        play_ground[save_row - 1][save_column] = 'x'\n",
    "    elif action == 'вниз' and down == True:\n",
    "        save = play_ground[save_row + 1][save_column]\n",
    "        play_ground[save_row][save_column] = save\n",
    "        play_ground[save_row + 1][save_column] = 'x'\n",
    "    elif action == 'влево' and left == True:\n",
    "        save = play_ground[save_row][save_column - 1]\n",
    "        play_ground[save_row][save_column] = save\n",
    "        play_ground[save_row ][save_column - 1] = 'x'\n",
    "    elif action == 'вправо' and right == True:\n",
    "        save = play_ground[save_row][save_column + 1]\n",
    "        play_ground[save_row][save_column] = save\n",
    "        play_ground[save_row][save_column + 1]  = 'x'\n",
    "    else:\n",
    "        print('Извините, сюда нельзя передвинуть')"
   ]
  }
 ],
 "metadata": {
  "kernelspec": {
   "display_name": "Python 3",
   "language": "python",
   "name": "python3"
  },
  "language_info": {
   "codemirror_mode": {
    "name": "ipython",
    "version": 3
   },
   "file_extension": ".py",
   "mimetype": "text/x-python",
   "name": "python",
   "nbconvert_exporter": "python",
   "pygments_lexer": "ipython3",
   "version": "3.6.8"
  }
 },
 "nbformat": 4,
 "nbformat_minor": 4
}
