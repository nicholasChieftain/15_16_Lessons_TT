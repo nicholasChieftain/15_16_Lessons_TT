{
 "cells": [
  {
   "cell_type": "markdown",
   "metadata": {},
   "source": [
    "**Пятнашки, version_1.1**"
   ]
  },
  {
   "cell_type": "code",
   "execution_count": null,
   "metadata": {},
   "outputs": [],
   "source": [
    "from random import randint\n",
    "play_ground=[[],[],[],[]]\n",
    "play_ground = [[3,2,1,4],[5,10,7,8],[9,6,11,'x'],[12,14,15,13]]\n",
    "\n",
    "while True:\n",
    "    for row in play_ground:\n",
    "        print(row)\n",
    "                # создаём переменные для проверки границ\n",
    "    up = True # перменная для проверки верхней границы\n",
    "    down = True # перменная для проверки нижней границы\n",
    "    left = True # перменная для проверки левой границы\n",
    "    right = True # перменная для проверки правой границы\n",
    "    for row in range(4):\n",
    "        for element in range(4):\n",
    "            if play_ground[row][element] == 'x':\n",
    "                save_row = row\n",
    "                save_column = element\n",
    "\n",
    "    if save_row == 0 : # если пустая клетка находится у верхней границы\n",
    "        up = False # Проверка не пройдена, устанавливаем проверку верхней границы в False\n",
    "    if save_row == 3: # если пустая клетка находится у нижней границы\n",
    "        down = False # Проверка не пройдена, устанавливаем проверку нижней границы в False\n",
    "    if save_column == 0: # если пустая клетка находится у левой границы\n",
    "        left = False # Проверка не пройдена, устанавливаем проверку левой границы в False\n",
    "    if save_column == 3: # если пустая клетка находится у правой границы\n",
    "        right = False # Проверка не пройдена, устанавливаем проверку правой границы в False\n",
    "\n",
    "    action = input('Введите направление, куда хотите передвинуть плитку\\n'\n",
    "                   '(вверх, вниз, влево, вправо)')\n",
    "\n",
    "    if action == 'вверх' and up == True: # Выполняем действие, если только прошли проверки на верхнюю границу\n",
    "        save = play_ground[save_row - 1][save_column]\n",
    "        play_ground[save_row][save_column] = save\n",
    "        play_ground[save_row - 1][save_column] = 'x'\n",
    "    elif action == 'вниз' and down == True: # Выполняем действие, если только прошли проверки на нижнюю границу\n",
    "        save = play_ground[save_row + 1][save_column]\n",
    "        play_ground[save_row][save_column] = save\n",
    "        play_ground[save_row + 1][save_column] = 'x'\n",
    "    elif action == 'влево' and left == True: # Выполняем действие, если только прошли проверки на левую границу\n",
    "        save = play_ground[save_row][save_column - 1]\n",
    "        play_ground[save_row][save_column] = save\n",
    "        play_ground[save_row ][save_column - 1] = 'x'\n",
    "    elif action == 'вправо' and right == True: # Выполняем действие, если только прошли проверки на правую границу\n",
    "        save = play_ground[save_row][save_column + 1]\n",
    "        play_ground[save_row][save_column] = save\n",
    "        play_ground[save_row][save_column + 1]  = 'x'\n",
    "    else: # Если указали направление, которое не прошло проверку\n",
    "        print('Извините, сюда нельзя передвинуть') # Выводим информацию об этом\n"
   ]
  }
 ],
 "metadata": {
  "kernelspec": {
   "display_name": "Python 3",
   "language": "python",
   "name": "python3"
  },
  "language_info": {
   "codemirror_mode": {
    "name": "ipython",
    "version": 3
   },
   "file_extension": ".py",
   "mimetype": "text/x-python",
   "name": "python",
   "nbconvert_exporter": "python",
   "pygments_lexer": "ipython3",
   "version": "3.6.8"
  }
 },
 "nbformat": 4,
 "nbformat_minor": 4
}
