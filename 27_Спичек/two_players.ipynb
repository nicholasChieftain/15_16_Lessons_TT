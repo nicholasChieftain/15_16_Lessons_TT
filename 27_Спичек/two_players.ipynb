{
 "cells": [
  {
   "cell_type": "markdown",
   "metadata": {},
   "source": [
    "**Игра для двоих игроков**"
   ]
  },
  {
   "cell_type": "code",
   "execution_count": null,
   "metadata": {},
   "outputs": [],
   "source": [
    "from random import randint # импортируем функцию для получения рандомных чисел\n",
    "number_matches = 27  # задаём число спичек в куче\n",
    "first_player = True # создаём переменную для регистрирования черёдности хода\n",
    "print(f'В куче {number_matches} спичек')\n",
    "while number_matches > 0: # Выполняем цикл, пока не закончатся все спички из кучи\n",
    "    if first_player == True: # Если первым ходит человек\n",
    "        print('Ход игрока 1')\n",
    "        take_matchs = int(input('Сколько спичек взять(укажите число от 1 до 5)')) # Спрашиваем, сколько человек берёт спичек\n",
    "        while take_matchs<=0 or take_matchs > 5: # Выполняем проверку, что человек ввёл число от 1 до 5\n",
    "            print('Вы ввели неправильно число, укажите число от 1 до 5')\n",
    "            take_matchs = int(input('Сколько спичек взять(укажите число от 1 до 5)')) # Просим ввести снова\n",
    "        number_matches = number_matches - take_matchs # Вычитаем из кучки введенноё человеком число\n",
    "        first_player = False # меняем сторону хода, теперь ходит компьюетр\n",
    "    else:\n",
    "        print('Ход игрока 2')\n",
    "        take_matchs = int(input('Сколько спичек взять(укажите число от 1 до 5)')) # Спрашиваем, сколько человек берёт спичек\n",
    "        while take_matchs<=0 or take_matchs > 5: # Выполняем проверку, что человек ввёл число от 1 до 5\n",
    "            print('Вы ввели неправильно число, укажите число от 1 до 5')\n",
    "            take_matchs = int(input('Сколько спичек взять(укажите число от 1 до 5)')) # Просим ввести снова\n",
    "        number_matches = number_matches - take_matchs # Вычитаем из кучки введенноё человеком число\n",
    "        first_player = True # меняем сторону хода, теперь ходит компьюетр\n",
    "    print(f'В данный ход взяли {take_matchs}, в куче осталось {number_matches}')  # выводим информацию используя f-строки\n",
    "if first_player == True: # В конце проверяем, кто выйграл, если ход был игрока 1, то он проиграл, т.к.\n",
    "    print('Выйграл игрок 2') # в конце хода игрока 2 сторона хода меняется и ходит игрок 1, но он не успевает сходить\n",
    "else:\n",
    "    print('Выйграл игрок 1')\n"
   ]
  }
 ],
 "metadata": {
  "kernelspec": {
   "display_name": "Python 3",
   "language": "python",
   "name": "python3"
  },
  "language_info": {
   "codemirror_mode": {
    "name": "ipython",
    "version": 3
   },
   "file_extension": ".py",
   "mimetype": "text/x-python",
   "name": "python",
   "nbconvert_exporter": "python",
   "pygments_lexer": "ipython3",
   "version": "3.6.8"
  }
 },
 "nbformat": 4,
 "nbformat_minor": 4
}
