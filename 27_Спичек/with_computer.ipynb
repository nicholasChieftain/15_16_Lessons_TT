{
 "cells": [
  {
   "cell_type": "markdown",
   "metadata": {},
   "source": [
    "**Игра с компьютером**"
   ]
  },
  {
   "cell_type": "code",
   "execution_count": null,
   "metadata": {},
   "outputs": [],
   "source": [
    "from random import randint # импортируем функцию для получения рандомных чисел\n",
    "number_matches = 27  # задаём число спичек в куче\n",
    "answer = input('Вы начинаете ?(Да/Нет)')  # Узнаём чередность хода\n",
    "answer = answer.lower()  # Приводим наш ответ к нижнему регистру, чтобы можно было вводить 'да'\n",
    "if answer == 'да': # Если ввели 'Да'\n",
    "    first_you = True # Указываем в пемернной, что первая сторона хода - человека\n",
    "else:\n",
    "    first_you = False # Указываем, что первыая сторона хода - компьютера\n",
    "while number_matches > 0: # Выполняем цикл, пока не закончатся все спички из кучи\n",
    "    if first_you == True: # Если первым ходит человек\n",
    "        take_matchs = int(input('Сколько спичек взять(укажите число от 1 до 5)')) # Спрашиваем, сколько человек берёт спичек\n",
    "        while take_matchs<=0 or take_matchs > 5: # Выполняем проверку, что человек ввёл число от 1 до 5\n",
    "            print('Вы ввели неправильно число, укажите число от 1 до 5')\n",
    "            take_matchs = int(input('Сколько спичек взять(укажите число от 1 до 5)')) # Просим ввести снова\n",
    "        number_matches = number_matches - take_matchs # Вычитаем из кучки введенноё человеком число\n",
    "        first_you = False # меняем сторону хода, теперь ходит компьюетр\n",
    "    else:\n",
    "        if number_matches>5: # компьютер проверяет, что в этот ход нельзя выйграть\n",
    "            take_matchs = randint(1,5) # Компьютер выбирает случайное число\n",
    "            number_matches = number_matches - take_matchs # компьютер вынимает из кучи спички\n",
    "        else: # если в этот ход можно выйграть\n",
    "            take_matchs = number_matches # компьютер берёт необходимое число спичек для победы\n",
    "            number_matches = number_matches - take_matchs\n",
    "        first_you = True # меняем сторону хода, теперь ходит человек\n",
    "    print(f'В данный ход взяли {take_matchs}, в куче осталось {number_matches}')  # выводим информацию используя f-строки\n",
    "if first_you == True: # В конце проверяем, кто выйграл, если ход был человека, то он проиграл, т.к.\n",
    "    print('Выйграл компьютер') # в конце хода компьютера сторона хода меняется и ходит человек, но он не успевает сходить\n",
    "else:\n",
    "    print('Поздравляю, вы выйграли')\n"
   ]
  }
 ],
 "metadata": {
  "kernelspec": {
   "display_name": "Python 3",
   "language": "python",
   "name": "python3"
  },
  "language_info": {
   "codemirror_mode": {
    "name": "ipython",
    "version": 3
   },
   "file_extension": ".py",
   "mimetype": "text/x-python",
   "name": "python",
   "nbconvert_exporter": "python",
   "pygments_lexer": "ipython3",
   "version": "3.6.8"
  }
 },
 "nbformat": 4,
 "nbformat_minor": 4
}
